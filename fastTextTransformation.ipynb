{
  "nbformat": 4,
  "nbformat_minor": 0,
  "metadata": {
    "colab": {
      "provenance": [],
      "mount_file_id": "1JaL6utsm4DGROI_bUSVn5sGfXYdXhXT1",
      "authorship_tag": "ABX9TyOPH8mvKyo/7Vng9AgDbbhF",
      "include_colab_link": true
    },
    "kernelspec": {
      "name": "python3",
      "display_name": "Python 3"
    },
    "language_info": {
      "name": "python"
    }
  },
  "cells": [
    {
      "cell_type": "markdown",
      "metadata": {
        "id": "view-in-github",
        "colab_type": "text"
      },
      "source": [
        "<a href=\"https://colab.research.google.com/github/Jaswanth-Devarinti/Extending-FastTextEmbeddings/blob/main/fastTextTransformation.ipynb\" target=\"_parent\"><img src=\"https://colab.research.google.com/assets/colab-badge.svg\" alt=\"Open In Colab\"/></a>"
      ]
    },
    {
      "cell_type": "markdown",
      "source": [
        "#Installing Fasttext"
      ],
      "metadata": {
        "id": "byA06cwd_TP8"
      }
    },
    {
      "cell_type": "code",
      "execution_count": 1,
      "metadata": {
        "id": "pOkBjPex-dXJ",
        "colab": {
          "base_uri": "https://localhost:8080/"
        },
        "outputId": "ec93c2e7-1c8a-4b01-a314-b1808e199a48"
      },
      "outputs": [
        {
          "output_type": "stream",
          "name": "stdout",
          "text": [
            "c++ -pthread -std=c++11 -march=native -O3 -funroll-loops -DNDEBUG -c src/productquantizer.cc\n",
            "c++ -pthread -std=c++11 -march=native -O3 -funroll-loops -DNDEBUG -c src/densematrix.cc\n",
            "c++ -pthread -std=c++11 -march=native -O3 -funroll-loops -DNDEBUG -c src/quantmatrix.cc\n",
            "c++ -pthread -std=c++11 -march=native -O3 -funroll-loops -DNDEBUG -c src/vector.cc\n",
            "c++ -pthread -std=c++11 -march=native -O3 -funroll-loops -DNDEBUG -c src/model.cc\n",
            "c++ -pthread -std=c++11 -march=native -O3 -funroll-loops -DNDEBUG -c src/utils.cc\n",
            "c++ -pthread -std=c++11 -march=native -O3 -funroll-loops -DNDEBUG -c src/meter.cc\n",
            "c++ -pthread -std=c++11 -march=native -O3 -funroll-loops -DNDEBUG -c src/fasttext.cc\n",
            "c++ -pthread -std=c++11 -march=native -O3 -funroll-loops -DNDEBUG args.o autotune.o matrix.o dictionary.o loss.o productquantizer.o densematrix.o quantmatrix.o vector.o model.o utils.o meter.o fasttext.o src/main.cc -o fasttext\n"
          ]
        }
      ],
      "source": [
        "!wget https://github.com/facebookresearch/fastText/archive/v0.9.2.zip\n",
        "!unzip v0.9.2.zip\n",
        "%cd fastText-0.9.2\n",
        "!make"
      ]
    },
    {
      "cell_type": "code",
      "source": [
        "%cd .."
      ],
      "metadata": {
        "colab": {
          "base_uri": "https://localhost:8080/"
        },
        "id": "fk3mfTTA_SXl",
        "outputId": "1b1d3e4f-16e7-4c97-b387-833ac2993658"
      },
      "execution_count": 2,
      "outputs": [
        {
          "output_type": "stream",
          "name": "stdout",
          "text": [
            "/content\n"
          ]
        }
      ]
    },
    {
      "cell_type": "markdown",
      "source": [
        "#Sample Data"
      ],
      "metadata": {
        "id": "FT2vgeSh_1wN"
      }
    },
    {
      "cell_type": "code",
      "source": [
        "!mkdir 'Data'"
      ],
      "metadata": {
        "id": "mINV_L8S_g58"
      },
      "execution_count": 3,
      "outputs": []
    },
    {
      "cell_type": "code",
      "source": [
        "%cd 'Data'"
      ],
      "metadata": {
        "id": "Kl8n0Y48_4QI",
        "outputId": "43fdb33a-5040-4c74-97a1-0f32ff5ffa71",
        "colab": {
          "base_uri": "https://localhost:8080/"
        }
      },
      "execution_count": 4,
      "outputs": [
        {
          "output_type": "stream",
          "name": "stdout",
          "text": [
            "/content/Data\n"
          ]
        }
      ]
    },
    {
      "cell_type": "code",
      "source": [
        "!cp '/content/drive/MyDrive/Data/eng_news_2020_1M.tar.gz' '/content/Data'"
      ],
      "metadata": {
        "id": "nUF2WFuWJ26r"
      },
      "execution_count": 5,
      "outputs": []
    },
    {
      "cell_type": "code",
      "source": [
        "!tar -xvf 'eng_news_2020_1M.tar.gz'"
      ],
      "metadata": {
        "colab": {
          "base_uri": "https://localhost:8080/"
        },
        "id": "G-QlRKHQAQMt",
        "outputId": "574ea1c8-5a0f-4ab1-9dbe-2944eeee42c4"
      },
      "execution_count": 6,
      "outputs": [
        {
          "output_type": "stream",
          "name": "stdout",
          "text": [
            "eng_news_2020_1M/\n",
            "eng_news_2020_1M/eng_news_2020_1M-import.sql\n",
            "eng_news_2020_1M/eng_news_2020_1M-words.txt\n",
            "eng_news_2020_1M/eng_news_2020_1M-inv_w.txt\n",
            "eng_news_2020_1M/eng_news_2020_1M-sentences.txt\n",
            "eng_news_2020_1M/eng_news_2020_1M-sources.txt\n",
            "eng_news_2020_1M/eng_news_2020_1M-inv_so.txt\n",
            "eng_news_2020_1M/eng_news_2020_1M-co_s.txt\n",
            "eng_news_2020_1M/eng_news_2020_1M-co_n.txt\n"
          ]
        }
      ]
    },
    {
      "cell_type": "code",
      "source": [
        "with open('/content/Data/eng_news_2020_1M/eng_news_2020_1M-sentences.txt') as f:\n",
        "    data = f.read()\n",
        "data[:100]"
      ],
      "metadata": {
        "colab": {
          "base_uri": "https://localhost:8080/",
          "height": 35
        },
        "id": "iFZnUEPiKdJR",
        "outputId": "7c0c399c-a1ae-4d33-ef8b-d20d08e57e57"
      },
      "execution_count": 7,
      "outputs": [
        {
          "output_type": "execute_result",
          "data": {
            "text/plain": [
              "'1\\t!, 05/27/1994) — NHL Network, 2 p.m. & 10 p.m.\\n2\\t$0 spent on advertising sans the rare times we se'"
            ],
            "application/vnd.google.colaboratory.intrinsic+json": {
              "type": "string"
            }
          },
          "metadata": {},
          "execution_count": 7
        }
      ]
    },
    {
      "cell_type": "code",
      "source": [
        "import re\n",
        "with open('/content/Data/eng_news_2020_1M/preocessed_data.txt','w') as f:\n",
        "    data = data.lower()\n",
        "    data = re.sub(r'[^a-z 0-9]',' ',data)\n",
        "    data = ' '.join(data.split())\n",
        "    f.write(data)"
      ],
      "metadata": {
        "id": "vRnXT6RwyIPs"
      },
      "execution_count": 20,
      "outputs": []
    },
    {
      "cell_type": "code",
      "source": [],
      "metadata": {
        "id": "Q0l_Olw5yILt"
      },
      "execution_count": null,
      "outputs": []
    },
    {
      "cell_type": "code",
      "source": [
        "%cd .."
      ],
      "metadata": {
        "colab": {
          "base_uri": "https://localhost:8080/"
        },
        "id": "bY-eEaGSKymT",
        "outputId": "6520fe5c-1948-4ded-e69c-4cc4eed0eb84"
      },
      "execution_count": 8,
      "outputs": [
        {
          "output_type": "stream",
          "name": "stdout",
          "text": [
            "/content\n"
          ]
        }
      ]
    },
    {
      "cell_type": "markdown",
      "source": [
        "#Building FastText Models"
      ],
      "metadata": {
        "id": "vKnLmobKAFYc"
      }
    },
    {
      "cell_type": "code",
      "source": [
        "!mkdir 'Model1'\n",
        "!mkdir 'Model2'"
      ],
      "metadata": {
        "id": "O00h3xZZ_kZW"
      },
      "execution_count": 9,
      "outputs": []
    },
    {
      "cell_type": "code",
      "source": [
        "%cd fastText-0.9.2"
      ],
      "metadata": {
        "colab": {
          "base_uri": "https://localhost:8080/"
        },
        "id": "7qAYOcOYAITN",
        "outputId": "beeae78d-de99-4246-838e-aac37362157c"
      },
      "execution_count": 10,
      "outputs": [
        {
          "output_type": "stream",
          "name": "stdout",
          "text": [
            "/content/fastText-0.9.2\n"
          ]
        }
      ]
    },
    {
      "cell_type": "code",
      "source": [
        "!./fasttext skipgram -input '/content/Data/eng_news_2020_1M/preocessed_data.txt' -output '/content/Model1/model1'"
      ],
      "metadata": {
        "colab": {
          "base_uri": "https://localhost:8080/"
        },
        "id": "w_BOYEx0AIQ9",
        "outputId": "6df4da31-6c09-4e00-c846-be3dcbf3474d"
      },
      "execution_count": 21,
      "outputs": [
        {
          "output_type": "stream",
          "name": "stdout",
          "text": [
            "Read 21M words\n",
            "Number of words:  64404\n",
            "Number of labels: 0\n",
            "Progress: 100.0% words/sec/thread:    9871 lr:  0.000000 avg.loss:  1.998348 ETA:   0h 0m 0s\n"
          ]
        }
      ]
    },
    {
      "cell_type": "code",
      "source": [
        "!./fasttext skipgram -input '/content/Data/eng_news_2020_1M/preocessed_data.txt' -output '/content/Model2/model2'"
      ],
      "metadata": {
        "id": "2h3_IJeD_n1l",
        "colab": {
          "base_uri": "https://localhost:8080/"
        },
        "outputId": "17b258c6-d4a4-4c05-e600-c93172610bd9"
      },
      "execution_count": 22,
      "outputs": [
        {
          "output_type": "stream",
          "name": "stdout",
          "text": [
            "Read 21M words\n",
            "Number of words:  64404\n",
            "Number of labels: 0\n",
            "Progress:  23.0% words/sec/thread:    9458 lr:  0.038508 avg.loss:  2.116651 ETA:   0h12m 2sl\n",
            "Progress:  23.2% words/sec/thread:    9459 lr:  0.038417 avg.loss:  2.116832 ETA:   0h12m 0sk\n",
            "Progress: 100.0% words/sec/thread:    9537 lr:  0.000000 avg.loss:  2.000590 ETA:   0h 0m 0s\n"
          ]
        }
      ]
    },
    {
      "cell_type": "markdown",
      "source": [
        "#Loading Models"
      ],
      "metadata": {
        "id": "FSwqlLd4xWkt"
      }
    },
    {
      "cell_type": "code",
      "source": [
        "!pip install fasttext"
      ],
      "metadata": {
        "colab": {
          "base_uri": "https://localhost:8080/"
        },
        "id": "Xq84uShFRuMb",
        "outputId": "9ab238fc-9767-4ef6-e626-0c2b7a7b03b9"
      },
      "execution_count": 23,
      "outputs": [
        {
          "output_type": "stream",
          "name": "stdout",
          "text": [
            "Looking in indexes: https://pypi.org/simple, https://us-python.pkg.dev/colab-wheels/public/simple/\n",
            "Requirement already satisfied: fasttext in /usr/local/lib/python3.8/dist-packages (0.9.2)\n",
            "Requirement already satisfied: pybind11>=2.2 in /usr/local/lib/python3.8/dist-packages (from fasttext) (2.10.3)\n",
            "Requirement already satisfied: numpy in /usr/local/lib/python3.8/dist-packages (from fasttext) (1.21.6)\n",
            "Requirement already satisfied: setuptools>=0.7.0 in /usr/local/lib/python3.8/dist-packages (from fasttext) (57.4.0)\n"
          ]
        }
      ]
    },
    {
      "cell_type": "code",
      "source": [
        "from fasttext import FastText"
      ],
      "metadata": {
        "id": "dGPCOqeKxbF1"
      },
      "execution_count": 24,
      "outputs": []
    },
    {
      "cell_type": "code",
      "source": [
        "ft1 = FastText.load_model('/content/Model1/model1.bin')\n",
        "ft2 = FastText.load_model('/content/Model2/model2.bin')"
      ],
      "metadata": {
        "colab": {
          "base_uri": "https://localhost:8080/"
        },
        "id": "Ti7JaGTvxrHl",
        "outputId": "67af1593-fe61-4e54-926d-22b7f6736c22"
      },
      "execution_count": 25,
      "outputs": [
        {
          "output_type": "stream",
          "name": "stderr",
          "text": [
            "Warning : `load_model` does not return WordVectorModel or SupervisedModel any more, but a `FastText` object which is very similar.\n",
            "Warning : `load_model` does not return WordVectorModel or SupervisedModel any more, but a `FastText` object which is very similar.\n"
          ]
        }
      ]
    },
    {
      "cell_type": "code",
      "source": [
        "ft1.get_nearest_neighbors('good')"
      ],
      "metadata": {
        "colab": {
          "base_uri": "https://localhost:8080/"
        },
        "id": "1l-kFaxxxz5O",
        "outputId": "e94523cd-9f28-4bbc-db93-4910e55abcf2"
      },
      "execution_count": 26,
      "outputs": [
        {
          "output_type": "execute_result",
          "data": {
            "text/plain": [
              "[(0.7525215744972229, 'bad'),\n",
              " (0.7358795404434204, 'nice'),\n",
              " (0.7321945428848267, 'great'),\n",
              " (0.7203713059425354, 'luck'),\n",
              " (0.7203660011291504, 'better'),\n",
              " (0.7090163826942444, 'decent'),\n",
              " (0.697594165802002, 'okay'),\n",
              " (0.6869414448738098, 'worthwhile'),\n",
              " (0.6841835379600525, 'crappy'),\n",
              " (0.6751186847686768, 'always')]"
            ]
          },
          "metadata": {},
          "execution_count": 26
        }
      ]
    },
    {
      "cell_type": "code",
      "source": [
        "ft2.get_nearest_neighbors('good')"
      ],
      "metadata": {
        "colab": {
          "base_uri": "https://localhost:8080/"
        },
        "id": "AuIE2JeNx5Ll",
        "outputId": "12ef5ff3-419a-4f76-c4e3-764ed4dd87fb"
      },
      "execution_count": 27,
      "outputs": [
        {
          "output_type": "execute_result",
          "data": {
            "text/plain": [
              "[(0.7551253437995911, 'bad'),\n",
              " (0.7518788576126099, 'nice'),\n",
              " (0.7202087640762329, 'great'),\n",
              " (0.7062771916389465, 'decent'),\n",
              " (0.6949061155319214, 'better'),\n",
              " (0.6904738545417786, 'really'),\n",
              " (0.6883261203765869, 'crappy'),\n",
              " (0.6856555342674255, 'honest'),\n",
              " (0.6839231252670288, 'always'),\n",
              " (0.678413450717926, 'kind')]"
            ]
          },
          "metadata": {},
          "execution_count": 27
        }
      ]
    },
    {
      "cell_type": "code",
      "source": [
        "from scipy.spatial.distance import cosine"
      ],
      "metadata": {
        "id": "JuMs-F7V6Esd"
      },
      "execution_count": 28,
      "outputs": []
    },
    {
      "cell_type": "code",
      "source": [
        "def get_cosine_similarity(word_embed1,word_embed2):\n",
        "    return 1-cosine(word_embed1,word_embed2)"
      ],
      "metadata": {
        "id": "A39ty5oSx9JV"
      },
      "execution_count": 29,
      "outputs": []
    },
    {
      "cell_type": "code",
      "source": [
        "def compare_models_vectors(word):\n",
        "    embed1 = ft1.get_word_vector(word)\n",
        "    embed2 = ft2.get_word_vector(word)\n",
        "    return get_cosine_similarity(embed1,embed2)"
      ],
      "metadata": {
        "id": "ejYILbUS6dhl"
      },
      "execution_count": 33,
      "outputs": []
    },
    {
      "cell_type": "code",
      "source": [
        "word = 'great'\n",
        "compare_models_vectors(word)"
      ],
      "metadata": {
        "colab": {
          "base_uri": "https://localhost:8080/"
        },
        "id": "MXumAXM068L2",
        "outputId": "21e09a64-7235-4945-fbc9-3cdebe52f916"
      },
      "execution_count": 35,
      "outputs": [
        {
          "output_type": "execute_result",
          "data": {
            "text/plain": [
              "0.5789466500282288"
            ]
          },
          "metadata": {},
          "execution_count": 35
        }
      ]
    },
    {
      "cell_type": "markdown",
      "source": [
        "#Now let's try to bring them to same space "
      ],
      "metadata": {
        "id": "bLDDZZqS7Lyl"
      }
    },
    {
      "cell_type": "markdown",
      "source": [
        "Let's Analyze the word vector space with PCA"
      ],
      "metadata": {
        "id": "HUQ7beiTCH_e"
      }
    },
    {
      "cell_type": "code",
      "source": [
        "import random"
      ],
      "metadata": {
        "id": "-BEdQoB9BXPn"
      },
      "execution_count": 60,
      "outputs": []
    },
    {
      "cell_type": "code",
      "source": [
        "all_words = ft1.get_words()"
      ],
      "metadata": {
        "id": "0w-iKZti7b77"
      },
      "execution_count": 72,
      "outputs": []
    },
    {
      "cell_type": "code",
      "source": [
        "input_matrix_1 = ft1.get_input_matrix()\n",
        "vector_id_list_1 = [ft1.get_word_id(word) for word in all_words]\n",
        "vectors_1 = input_matrix_1[vector_id_list_1]"
      ],
      "metadata": {
        "id": "A52O2y6L7_gE"
      },
      "execution_count": 73,
      "outputs": []
    },
    {
      "cell_type": "code",
      "source": [
        "input_matrix_2 = ft2.get_input_matrix()\n",
        "vector_id_list_2 = [ft2.get_word_id(word) for word in all_words]\n",
        "vectors_2 = input_matrix_2[vector_id_list_2]"
      ],
      "metadata": {
        "id": "wqab7oQA7DTU"
      },
      "execution_count": 74,
      "outputs": []
    },
    {
      "cell_type": "code",
      "source": [
        "from sklearn.decomposition import PCA\n",
        "pca1 = PCA()\n",
        "Xt1 = pca1.fit_transform(vectors_1)"
      ],
      "metadata": {
        "id": "x8iMrjH08TVT"
      },
      "execution_count": 75,
      "outputs": []
    },
    {
      "cell_type": "code",
      "source": [
        "from sklearn.decomposition import PCA\n",
        "pca2 = PCA()\n",
        "Xt2 = pca2.fit_transform(vectors_2)"
      ],
      "metadata": {
        "id": "9teTX9AWAByJ"
      },
      "execution_count": 76,
      "outputs": []
    },
    {
      "cell_type": "code",
      "source": [
        "import numpy as np"
      ],
      "metadata": {
        "id": "kgZ-igf0AehW"
      },
      "execution_count": 77,
      "outputs": []
    },
    {
      "cell_type": "code",
      "source": [
        "Xt = np.concatenate([Xt1,Xt2])\n",
        "y = [0]*len(all_words)+[1]*len(all_words)"
      ],
      "metadata": {
        "id": "i1dSdGsdAlNe"
      },
      "execution_count": 78,
      "outputs": []
    },
    {
      "cell_type": "code",
      "source": [
        "Xt.shape"
      ],
      "metadata": {
        "colab": {
          "base_uri": "https://localhost:8080/"
        },
        "id": "MusuQA52BOvI",
        "outputId": "503a2a8e-25c5-455b-d10e-4460b3a7c5b0"
      },
      "execution_count": 79,
      "outputs": [
        {
          "output_type": "execute_result",
          "data": {
            "text/plain": [
              "(128808, 100)"
            ]
          },
          "metadata": {},
          "execution_count": 79
        }
      ]
    },
    {
      "cell_type": "code",
      "source": [
        "import matplotlib.pyplot as plt"
      ],
      "metadata": {
        "id": "hxwlPbFMAKAw"
      },
      "execution_count": 80,
      "outputs": []
    },
    {
      "cell_type": "code",
      "source": [
        "plot = plt.scatter(Xt[:,0], Xt[:,1], c=y)\n",
        "plt.legend(handles=plot.legend_elements()[0], labels=['Model1','Model2'])\n",
        "plt.show()"
      ],
      "metadata": {
        "colab": {
          "base_uri": "https://localhost:8080/",
          "height": 265
        },
        "id": "oKrH7RqNAF4Z",
        "outputId": "b3254c90-1b87-4c3e-f125-8bcfa9002ba7"
      },
      "execution_count": 81,
      "outputs": [
        {
          "output_type": "display_data",
          "data": {
            "text/plain": [
              "<Figure size 432x288 with 1 Axes>"
            ],
            "image/png": "[encoded data removed]"
          },
          "metadata": {
            "needs_background": "light"
          }
        }
      ]
    },
    {
      "cell_type": "markdown",
      "source": [
        "As we can see, they are pretty much aligned in PCA, that means the vectors produced by two models are just some kind of transformation, that still holds the same kind of relationship between words"
      ],
      "metadata": {
        "id": "Sbf7n5oxBvCV"
      }
    },
    {
      "cell_type": "markdown",
      "source": [
        "**Method 1**\n",
        "If we assume they hold some linear transformation then, we can kind of see it as **Wx = Y**. We can try to solve it using closed solution of linear regression\n",
        "\n",
        "Attaching the reference here\n",
        "[closed form solution for linear regression](https://towardsdatascience.com/normal-equation-in-python-the-closed-form-solution-for-linear-regression-13df33f9ad71)"
      ],
      "metadata": {
        "id": "N9n901KcCa2e"
      }
    },
    {
      "cell_type": "code",
      "source": [
        "def project(X,W):\n",
        "    X = X.reshape((1,100))\n",
        "    X = np.append(X, np.ones((X.shape[0],1)), axis=1)\n",
        "    projects = np.dot(X, W)\n",
        "    return projects[0]"
      ],
      "metadata": {
        "id": "7t7m8plcFUuE"
      },
      "execution_count": 136,
      "outputs": []
    },
    {
      "cell_type": "code",
      "source": [
        "def compare_models_vectors_new(word,W):\n",
        "    embed1 = ft1.get_word_vector(word)\n",
        "    proj_embed1 = project(embed1,W)\n",
        "    embed2 = ft2.get_word_vector(word)\n",
        "    return get_cosine_similarity(proj_embed1,embed2)"
      ],
      "metadata": {
        "id": "3-5iI5mpFg2E"
      },
      "execution_count": 137,
      "outputs": []
    },
    {
      "cell_type": "code",
      "source": [
        "def compare_two_scores(word_list,W):\n",
        "    score_list1 = np.array([compare_models_vectors(word) for word in word_list])\n",
        "    score_list2 = np.array([compare_models_vectors_new(word,W) for word in word_list])\n",
        "    diff_list = score_list2-score_list1\n",
        "    return max(diff_list),min(diff_list)"
      ],
      "metadata": {
        "id": "QeUYj3e5HCja"
      },
      "execution_count": 138,
      "outputs": []
    },
    {
      "cell_type": "code",
      "source": [
        "len(all_words)"
      ],
      "metadata": {
        "colab": {
          "base_uri": "https://localhost:8080/"
        },
        "id": "JB3xnhZBGn05",
        "outputId": "de08ea08-246f-42df-ce6b-46058e877e3f"
      },
      "execution_count": 118,
      "outputs": [
        {
          "output_type": "execute_result",
          "data": {
            "text/plain": [
              "64404"
            ]
          },
          "metadata": {},
          "execution_count": 118
        }
      ]
    },
    {
      "cell_type": "code",
      "source": [
        "number_of_random_samples = 1000\n",
        "random_samples = random.sample(all_words,number_of_random_samples)\n",
        "\n",
        "def learn_projection_matrix(X,y):\n",
        "    m = X.shape[0] # Number of training examples. \n",
        "    # Appending a cloumn of ones in X to add the bias term.\n",
        "    X = np.append(X, np.ones((m,1)), axis=1)\n",
        "    # The Normal Equation\n",
        "    theta = np.dot(np.linalg.inv(np.dot(X.T, X)), np.dot(X.T, y))\n",
        "    \n",
        "    return theta\n",
        "\n",
        "word_vec_id_1 = [ft1.get_word_id(word) for word in random_samples]\n",
        "word_vec_1 = input_matrix_1[word_vec_id_1]\n",
        "\n",
        "word_vec_id_2 = [ft2.get_word_id(word) for word in random_samples]\n",
        "word_vec_2 = input_matrix_1[word_vec_id_2]\n",
        "\n",
        "W = learn_projection_matrix(word_vec_1,word_vec_2)"
      ],
      "metadata": {
        "id": "DHnb_2bGAWf3"
      },
      "execution_count": 143,
      "outputs": []
    },
    {
      "cell_type": "code",
      "source": [
        "W.shape"
      ],
      "metadata": {
        "colab": {
          "base_uri": "https://localhost:8080/"
        },
        "id": "keANSp27FS7j",
        "outputId": "3721382e-752f-424c-b730-e30a4050df96"
      },
      "execution_count": 144,
      "outputs": [
        {
          "output_type": "execute_result",
          "data": {
            "text/plain": [
              "(101, 100)"
            ]
          },
          "metadata": {},
          "execution_count": 144
        }
      ]
    },
    {
      "cell_type": "code",
      "source": [
        "word = 'help'\n",
        "print('Old :',compare_models_vectors(word))\n",
        "print('New :',compare_models_vectors_new(word,W))"
      ],
      "metadata": {
        "colab": {
          "base_uri": "https://localhost:8080/"
        },
        "id": "1L4jrusZFuf9",
        "outputId": "8c5ca555-5fc2-463a-ed51-f6fea0e399ed"
      },
      "execution_count": 145,
      "outputs": [
        {
          "output_type": "stream",
          "name": "stdout",
          "text": [
            "Old : 0.7320360541343689\n",
            "New : 0.7320360995548307\n"
          ]
        }
      ]
    },
    {
      "cell_type": "code",
      "source": [
        "compare_two_scores(all_words)"
      ],
      "metadata": {
        "colab": {
          "base_uri": "https://localhost:8080/"
        },
        "id": "hSwwMVZ_F4t6",
        "outputId": "d5bd0dc7-2366-4385-ca66-b1dc27c3ae5e"
      },
      "execution_count": 135,
      "outputs": [
        {
          "output_type": "execute_result",
          "data": {
            "text/plain": [
              "(-0.07384773100083608, -1.293358086977881)"
            ]
          },
          "metadata": {},
          "execution_count": 135
        }
      ]
    },
    {
      "cell_type": "code",
      "source": [],
      "metadata": {
        "id": "XNmXGTZ2H0lA"
      },
      "execution_count": 135,
      "outputs": []
    }
  ]
}